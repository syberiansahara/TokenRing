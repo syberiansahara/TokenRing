{
 "cells": [
  {
   "cell_type": "code",
   "execution_count": 10,
   "metadata": {
    "collapsed": true
   },
   "outputs": [],
   "source": [
    "from math import log, pi, cosh, sin, tanh, cos\n",
    "import numpy as np\n",
    "import matplotlib\n",
    "import matplotlib.pyplot as plt\n",
    "import matplotlib.patches as mpatches\n",
    "from mpl_toolkits.mplot3d import Axes3D\n",
    "%matplotlib inline\n",
    "import copy\n",
    "from sklearn import linear_model"
   ]
  },
  {
   "cell_type": "code",
   "execution_count": 11,
   "metadata": {
    "collapsed": true
   },
   "outputs": [],
   "source": [
    "theroot = r'C:\\Users\\syber\\SyberIdea\\TokenRing\\logs'"
   ]
  },
  {
   "cell_type": "code",
   "execution_count": 12,
   "metadata": {
    "collapsed": true
   },
   "outputs": [],
   "source": [
    "nn = ['5', '10']"
   ]
  },
  {
   "cell_type": "code",
   "execution_count": 13,
   "metadata": {
    "collapsed": true
   },
   "outputs": [],
   "source": [
    "r = ['0.02', '0.04', '0.06', '0.08', '0.10']"
   ]
  },
  {
   "cell_type": "code",
   "execution_count": 33,
   "metadata": {
    "collapsed": false,
    "scrolled": true
   },
   "outputs": [
    {
     "name": "stdout",
     "output_type": "stream",
     "text": [
      "<type 'numpy.ndarray'> [('nnodes', '<i4'), ('nframes', '<i4'), ('tgen', '<f2'), ('texec', '<f4'), ('tmean', '<f4'), ('tstd', '<f4'), ('trpt', '<f4'), ('load', 'i1'), ('loadrate', '<f2')]\n",
      "<type 'numpy.ndarray'> [('nnodes', '<i4'), ('nframes', '<i4'), ('tgen', '<f2'), ('texec', '<f4'), ('tmean', '<f4'), ('tstd', '<f4'), ('trpt', '<f4'), ('load', 'i1'), ('loadrate', '<f2')]\n"
     ]
    }
   ],
   "source": [
    "for ind, n in enumerate(nn):\n",
    "    data = np.loadtxt(r'%s\\%s.txt' %(theroot, n), delimiter=',',  \n",
    "                      dtype={'names': ('nnodes', 'nframes', 'tgen', \n",
    "                                       'texec', 'tmean', 'tstd', \n",
    "                                       'trpt', 'load', 'loadrate'),\n",
    "                             'formats': ('i4', 'i4', 'f2',\n",
    "                                    'f4', 'f4', 'f4', \n",
    "                                         'f4', 'i1', 'f2')})\n",
    "    print type(data), data.dtype"
   ]
  },
  {
   "cell_type": "code",
   "execution_count": 49,
   "metadata": {
    "collapsed": false
   },
   "outputs": [
    {
     "data": {
      "text/plain": [
       "5"
      ]
     },
     "execution_count": 49,
     "metadata": {},
     "output_type": "execute_result"
    }
   ],
   "source": [
    "data.size"
   ]
  },
  {
   "cell_type": "code",
   "execution_count": 56,
   "metadata": {
    "collapsed": false
   },
   "outputs": [
    {
     "data": {
      "text/plain": [
       "array([[ (10, 10, 0.01000213623046875, 6.664766788482666, 0.09859699755907059, 0.07158000022172928, 15.00427532196045, 0, 1.0),\n",
       "        (10, 8, 0.01000213623046875, 6.659943103790283, 0.1431410014629364, 0.10919400304555893, 15.015142440795898, 1, 0.7998046875),\n",
       "        (10, 6, 0.01000213623046875, 6.925093173980713, 0.11484300345182419, 0.10182200372219086, 14.440238952636719, 1, 0.60009765625),\n",
       "        (10, 4, 0.01000213623046875, 7.145420074462891, 0.13191400468349457, 0.09476599842309952, 13.994978904724121, 1, 0.39990234375),\n",
       "        (10, 2, 0.01000213623046875, 13.138843536376953, 0.132765993475914, 0.12034399807453156, 7.611020088195801, 1, 0.199951171875)]], \n",
       "      dtype=[('nnodes', '<i4'), ('nframes', '<i4'), ('tgen', '<f2'), ('texec', '<f4'), ('tmean', '<f4'), ('tstd', '<f4'), ('trpt', '<f4'), ('load', 'i1'), ('loadrate', '<f2')])"
      ]
     },
     "execution_count": 56,
     "metadata": {},
     "output_type": "execute_result"
    }
   ],
   "source": [
    "data[np.newaxis, :]"
   ]
  }
 ],
 "metadata": {
  "kernelspec": {
   "display_name": "Python 2",
   "language": "python",
   "name": "python2"
  },
  "language_info": {
   "codemirror_mode": {
    "name": "ipython",
    "version": 2
   },
   "file_extension": ".py",
   "mimetype": "text/x-python",
   "name": "python",
   "nbconvert_exporter": "python",
   "pygments_lexer": "ipython2",
   "version": "2.7.11"
  }
 },
 "nbformat": 4,
 "nbformat_minor": 0
}
